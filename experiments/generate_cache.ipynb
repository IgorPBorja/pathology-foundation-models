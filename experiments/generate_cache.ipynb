{
    "cells": [
        {
            "cell_type": "code",
            "execution_count": null,
            "id": "120123f8",
            "metadata": {},
            "outputs": [],
            "source": [
                "import sys\n",
                "import os\n",
                "sys.path.append(os.path.dirname(os.path.abspath(os.getcwd())))\n",
                "\n",
                "from loader import load_foundation_model\n",
                "from dataset.cached_embedding import EmbeddingCache"
            ]
        },
        {
            "cell_type": "code",
            "execution_count": 4,
            "id": "77e9d38c",
            "metadata": {},
            "outputs": [],
            "source": [
                "import torch\n",
                "import torchvision.transforms as T\n",
                "\n",
                "from torchvision.datasets import ImageFolder"
            ]
        },
        {
            "cell_type": "markdown",
            "id": "19599b32",
            "metadata": {},
            "source": [
                "# Experiment"
            ]
        },
        {
            "cell_type": "code",
            "execution_count": 5,
            "id": "1112cb8e",
            "metadata": {},
            "outputs": [
                {
                    "name": "stdout",
                    "output_type": "stream",
                    "text": [
                        "Train dataset size: 7582\n",
                        "Validation dataset size: 120\n"
                    ]
                }
            ],
            "source": [
                "train_dataset = ImageFolder(\n",
                "    root='data/glomerulus_train_dataset',\n",
                "    transform=T.Compose([T.ToTensor()]),\n",
                ")\n",
                "val_dataset = ImageFolder(\n",
                "    root='data/glomerulus_val_dataset',\n",
                "    transform=T.Compose([T.ToTensor()]),\n",
                ")\n",
                "\n",
                "print(f\"Train dataset size: {len(train_dataset)}\")\n",
                "print(f\"Validation dataset size: {len(val_dataset)}\")"
            ]
        },
        {
            "cell_type": "code",
            "execution_count": 6,
            "id": "e5525ae9",
            "metadata": {},
            "outputs": [],
            "source": [
                "# avg_train_aspect_ratio = sum(\n",
                "#     image.shape[1] / image.shape[2] for image, _ in train_dataset\n",
                "# ) / len(train_dataset)\n",
                "\n",
                "# avg_val_aspect_ratio = sum(\n",
                "#     image.shape[1] / image.shape[2] for image, _ in val_dataset\n",
                "# ) / len(val_dataset)\n",
                "\n",
                "# avg_train_height = sum(image.shape[1] for image, _ in train_dataset) / len(train_dataset)\n",
                "# avg_val_height = sum(image.shape[1] for image, _ in val_dataset) / len(val_dataset)\n",
                "\n",
                "# print(f\"Average train aspect ratio: {avg_train_aspect_ratio}\")\n",
                "# print(f\"Average validation aspect ratio: {avg_val_aspect_ratio}\")\n",
                "# print(f\"Average train height: {avg_train_height}\")\n",
                "# print(f\"Average validation height: {avg_val_height}\")"
            ]
        },
        {
            "cell_type": "code",
            "execution_count": 7,
            "id": "e174ab3a",
            "metadata": {},
            "outputs": [],
            "source": [
                "train_dataset = ImageFolder(\n",
                "    root='data/glomerulus_train_dataset',\n",
                "    transform=T.Compose([\n",
                "        T.Resize((768, 1024)),\n",
                "        T.ToTensor(),\n",
                "    ]),\n",
                ")\n",
                "val_dataset = ImageFolder(\n",
                "    root='data/glomerulus_val_dataset',\n",
                "    transform=T.Compose([\n",
                "        T.Resize((768, 1024)),\n",
                "        T.ToTensor(),\n",
                "    ]),\n",
                ")\n"
            ]
        },
        {
            "cell_type": "code",
            "execution_count": 8,
            "id": "65e0ef13",
            "metadata": {},
            "outputs": [
                {
                    "data": {
                        "application/vnd.jupyter.widget-view+json": {
                            "model_id": "fcaf8b023b82406ab40b1ad099df56ed",
                            "version_major": 2,
                            "version_minor": 0
                        },
                        "text/plain": [
                            "VBox(children=(HTML(value='<center> <img\\nsrc=https://huggingface.co/front/assets/huggingface_logo-noborder.sv…"
                        ]
                    },
                    "metadata": {},
                    "output_type": "display_data"
                }
            ],
            "source": [
                "uniFM = load_foundation_model(\"MahmoodLab/UNI\", device=\"cuda\")"
            ]
        },
        {
            "cell_type": "code",
            "execution_count": null,
            "id": "43b727d9",
            "metadata": {},
            "outputs": [
                {
                    "name": "stderr",
                    "output_type": "stream",
                    "text": [
                        "Extracting features: 100%|██████████| 8/8 [00:01<00:00,  4.29it/s]\n"
                    ]
                }
            ],
            "source": [
                "val_cache = EmbeddingCache.init_from_image_dataset(\n",
                "    image_dataset=val_dataset,\n",
                "    model=uniFM,\n",
                "    batch_size=16,\n",
                "    display_progress=True,\n",
                ")\n",
                "val_cache.save(\"data/UNI_glomerulus_val_dataset_embeddings.pt\")"
            ]
        },
        {
            "cell_type": "code",
            "execution_count": null,
            "id": "aa6a702b",
            "metadata": {},
            "outputs": [
                {
                    "name": "stderr",
                    "output_type": "stream",
                    "text": [
                        "Extracting features: 100%|██████████| 30/30 [00:55<00:00,  1.85s/it]\n"
                    ]
                }
            ],
            "source": [
                "train_cache = EmbeddingCache.init_from_image_dataset(\n",
                "    image_dataset=train_dataset,\n",
                "    model=uniFM,\n",
                "    batch_size=256,\n",
                "    display_progress=True,\n",
                ")\n",
                "train_cache.save(\"data/UNI_glomerulus_train_dataset_embeddings.pt\")"
            ]
        }
    ],
    "metadata": {
        "kernelspec": {
            "display_name": "Python 3",
            "language": "python",
            "name": "python3"
        },
        "language_info": {
            "codemirror_mode": {
                "name": "ipython",
                "version": 3
            },
            "file_extension": ".py",
            "mimetype": "text/x-python",
            "name": "python",
            "nbconvert_exporter": "python",
            "pygments_lexer": "ipython3",
            "version": "3.11.13"
        }
    },
    "nbformat": 4,
    "nbformat_minor": 5
}