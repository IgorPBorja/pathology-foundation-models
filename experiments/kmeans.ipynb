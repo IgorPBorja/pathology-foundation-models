{
 "cells": [
  {
   "cell_type": "code",
   "execution_count": null,
   "id": "aa911f51",
   "metadata": {},
   "outputs": [],
   "source": [
    "# Now that the package is installed, we can use direct imports\n",
    "from dataset.loader import load_foundation_model\n",
    "from dataset.cached_embedding import EmbeddingCache\n",
    "from unsupervised.kmeans import kmeans_clustering\n",
    "\n",
    "print(\"Package imports successful!\")"
   ]
  },
  {
   "cell_type": "code",
   "execution_count": 6,
   "id": "114f78b1",
   "metadata": {},
   "outputs": [],
   "source": [
    "import torch\n",
    "import torchvision.transforms as T\n",
    "\n",
    "from torchvision.datasets import ImageFolder\n",
    "from torchmetrics import F1Score, Accuracy"
   ]
  },
  {
   "cell_type": "code",
   "execution_count": 7,
   "id": "3921918e",
   "metadata": {},
   "outputs": [
    {
     "name": "stdout",
     "output_type": "stream",
     "text": [
      "Number of classes: 6\n",
      "Number of training embeddings: 7582\n",
      "Number of validation embeddings: 120\n"
     ]
    }
   ],
   "source": [
    "train_embeddings = EmbeddingCache.load_from_file(\"data/UNI_glomerulus_train_dataset_embeddings.pt\")\n",
    "val_embeddings = EmbeddingCache.load_from_file(\"data/UNI_glomerulus_val_dataset_embeddings.pt\")\n",
    "\n",
    "num_classes = torch.unique(train_embeddings.labels).numel()\n",
    "print(f\"Number of classes: {num_classes}\")\n",
    "print(f\"Number of training embeddings: {len(train_embeddings)}\")\n",
    "print(f\"Number of validation embeddings: {len(val_embeddings)}\")"
   ]
  },
  {
   "cell_type": "code",
   "execution_count": 8,
   "id": "d0127080",
   "metadata": {},
   "outputs": [],
   "source": [
    "predicted_fn, _, _ = kmeans_clustering(train_embeddings, n_clusters=num_classes)"
   ]
  },
  {
   "cell_type": "code",
   "execution_count": 9,
   "id": "c06d587a",
   "metadata": {},
   "outputs": [
    {
     "name": "stdout",
     "output_type": "stream",
     "text": [
      "Train Accuracy: 0.1804, Train F1: 0.1804\n",
      "Validation Accuracy: 0.1833, Validation F1: 0.1833\n"
     ]
    }
   ],
   "source": [
    "metric = Accuracy(task=\"multiclass\", num_classes=num_classes)\n",
    "f1 = F1Score(task=\"multiclass\", num_classes=num_classes)\n",
    "\n",
    "train_predicted = predicted_fn(train_embeddings.embeddings)\n",
    "train_acc = metric(train_predicted, train_embeddings.labels)\n",
    "train_f1 = f1(train_predicted, train_embeddings.labels)\n",
    "\n",
    "val_predicted = predicted_fn(val_embeddings.embeddings)\n",
    "val_acc = metric(val_predicted, val_embeddings.labels)\n",
    "val_f1 = f1(val_predicted, val_embeddings.labels)\n",
    "print(f\"Train Accuracy: {train_acc:.4f}, Train F1: {train_f1:.4f}\")\n",
    "print(f\"Validation Accuracy: {val_acc:.4f}, Validation F1: {val_f1:.4f}\")\n"
   ]
  }
 ],
 "metadata": {
  "kernelspec": {
   "display_name": "Python 3",
   "language": "python",
   "name": "python3"
  },
  "language_info": {
   "codemirror_mode": {
    "name": "ipython",
    "version": 3
   },
   "file_extension": ".py",
   "mimetype": "text/x-python",
   "name": "python",
   "nbconvert_exporter": "python",
   "pygments_lexer": "ipython3",
   "version": "3.11.13"
  }
 },
 "nbformat": 4,
 "nbformat_minor": 5
}
